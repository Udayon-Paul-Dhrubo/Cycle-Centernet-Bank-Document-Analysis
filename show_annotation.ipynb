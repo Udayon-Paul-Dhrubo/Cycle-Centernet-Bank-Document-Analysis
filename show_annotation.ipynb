{
 "cells": [
  {
   "cell_type": "code",
   "execution_count": 12,
   "metadata": {},
   "outputs": [],
   "source": [
    "import json\n",
    "json_file = \"/media/quadro/NVME/Mehrab/datasets/train/train_4x10.json\""
   ]
  },
  {
   "cell_type": "code",
   "execution_count": 13,
   "metadata": {},
   "outputs": [],
   "source": [
    "# Load the JSON file\n",
    "with open(json_file, 'r') as f:\n",
    "    data = json.load(f)"
   ]
  },
  {
   "cell_type": "code",
   "execution_count": 14,
   "metadata": {},
   "outputs": [
    {
     "name": "stdout",
     "output_type": "stream",
     "text": [
      "[{'id': 20140000001, 'file_name': 'customs-declaration-13853.jpg', 'width': 2048, 'height': 1454}]\n"
     ]
    }
   ],
   "source": [
    "fist_two_entries = data[\"images\"][:1]\n",
    "print(fist_two_entries)"
   ]
  },
  {
   "cell_type": "code",
   "execution_count": 15,
   "metadata": {},
   "outputs": [
    {
     "name": "stdout",
     "output_type": "stream",
     "text": [
      "[{'segmentation': [[121.0, 183.0, 551.0, 187.0, 551.0, 248.0, 121.0, 244.0]], 'area': 27950.0, 'iscrowd': 0, 'ignore': 0, 'image_id': 20140000001, 'bbox': [121.0, 183.0, 430.0, 65.0], 'category_id': 1, 'id': 1}]\n"
     ]
    }
   ],
   "source": [
    "first_two_annotations = data[\"annotations\"][:1]\n",
    "print(first_two_annotations)"
   ]
  },
  {
   "cell_type": "code",
   "execution_count": 6,
   "metadata": {},
   "outputs": [
    {
     "name": "stdout",
     "output_type": "stream",
     "text": [
      "[{'supercategory': 'none', 'id': 1, 'name': 'box'}]\n"
     ]
    }
   ],
   "source": [
    "categories = data[\"categories\"]\n",
    "print(categories)"
   ]
  },
  {
   "cell_type": "code",
   "execution_count": 27,
   "metadata": {},
   "outputs": [
    {
     "name": "stdout",
     "output_type": "stream",
     "text": [
      "loading Roboflow workspace...\n",
      "loading Roboflow project...\n"
     ]
    },
    {
     "name": "stderr",
     "output_type": "stream",
     "text": [
      "Downloading Dataset Version Zip in Fine_Tuning_Table_Parsing-1 to coco-mmdetection:: 100%|██████████| 1973/1973 [00:01<00:00, 1440.47it/s]"
     ]
    },
    {
     "name": "stdout",
     "output_type": "stream",
     "text": [
      "\n"
     ]
    },
    {
     "name": "stderr",
     "output_type": "stream",
     "text": [
      "\n",
      "Extracting Dataset Version Zip to Fine_Tuning_Table_Parsing-1 in coco-mmdetection:: 100%|██████████| 37/37 [00:00<00:00, 722.54it/s]\n"
     ]
    }
   ],
   "source": [
    "\n",
    "\n",
    "from roboflow import Roboflow\n",
    "rf = Roboflow(api_key=\"LgL7cOvEfeKGcn7Gwojn\")\n",
    "project = rf.workspace(\"tax-document\").project(\"fine_tuning_table_parsing\")\n",
    "dataset = project.version(1).download(\"coco-mmdetection\")\n",
    "\n",
    "\n"
   ]
  },
  {
   "cell_type": "code",
   "execution_count": 22,
   "metadata": {},
   "outputs": [],
   "source": [
    "import json\n",
    "json_file = \"/media/quadro/NVME/Mehrab/Current_Experiment/Fine_Tuning_Table_Parsing-1/train/_annotations.coco.json\""
   ]
  },
  {
   "cell_type": "code",
   "execution_count": 23,
   "metadata": {},
   "outputs": [],
   "source": [
    "# Load the JSON file\n",
    "with open(json_file, 'r') as f:\n",
    "    data = json.load(f)"
   ]
  },
  {
   "cell_type": "code",
   "execution_count": 24,
   "metadata": {},
   "outputs": [
    {
     "name": "stdout",
     "output_type": "stream",
     "text": [
      "[{'id': 0, 'license': 1, 'file_name': 'scb_0_1_jpg.rf.1e9b53dff6309e8db45bf313863bce94.jpg', 'height': 640, 'width': 640, 'date_captured': '2024-02-24T12:51:20+00:00'}]\n"
     ]
    }
   ],
   "source": [
    "fist_two_entries = data[\"images\"][:1]\n",
    "print(fist_two_entries)"
   ]
  },
  {
   "cell_type": "code",
   "execution_count": 25,
   "metadata": {},
   "outputs": [
    {
     "name": "stdout",
     "output_type": "stream",
     "text": [
      "[{'id': 0, 'image_id': 0, 'category_id': 1, 'bbox': [578, 454, 44.105, 18.768], 'area': 827.758, 'segmentation': [], 'iscrowd': 0}]\n"
     ]
    }
   ],
   "source": [
    "first_two_annotations = data[\"annotations\"][:1]\n",
    "print(first_two_annotations)"
   ]
  },
  {
   "cell_type": "code",
   "execution_count": 26,
   "metadata": {},
   "outputs": [
    {
     "name": "stdout",
     "output_type": "stream",
     "text": [
      "[{'id': 0, 'name': 'cell', 'supercategory': 'none'}, {'id': 1, 'name': 'box', 'supercategory': 'cell'}]\n"
     ]
    }
   ],
   "source": [
    "categories = data[\"categories\"]\n",
    "print(categories)"
   ]
  }
 ],
 "metadata": {
  "kernelspec": {
   "display_name": "openmmlab",
   "language": "python",
   "name": "python3"
  },
  "language_info": {
   "codemirror_mode": {
    "name": "ipython",
    "version": 3
   },
   "file_extension": ".py",
   "mimetype": "text/x-python",
   "name": "python",
   "nbconvert_exporter": "python",
   "pygments_lexer": "ipython3",
   "version": "3.8.18"
  }
 },
 "nbformat": 4,
 "nbformat_minor": 2
}
