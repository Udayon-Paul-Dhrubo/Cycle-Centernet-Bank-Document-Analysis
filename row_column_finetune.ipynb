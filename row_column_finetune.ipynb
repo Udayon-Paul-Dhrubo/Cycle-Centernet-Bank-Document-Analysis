{
 "cells": [
  {
   "cell_type": "code",
   "execution_count": 20,
   "metadata": {},
   "outputs": [
    {
     "name": "stdout",
     "output_type": "stream",
     "text": [
      "loading Roboflow workspace...\n",
      "loading Roboflow project...\n"
     ]
    },
    {
     "name": "stderr",
     "output_type": "stream",
     "text": [
      "Downloading Dataset Version Zip in Rows-and-Columns-1 to coco:: 100%|██████████| 3477/3477 [00:01<00:00, 2420.39it/s]"
     ]
    },
    {
     "name": "stdout",
     "output_type": "stream",
     "text": [
      "\n"
     ]
    },
    {
     "name": "stderr",
     "output_type": "stream",
     "text": [
      "\n",
      "Extracting Dataset Version Zip to Rows-and-Columns-1 in coco:: 100%|██████████| 75/75 [00:00<00:00, 900.16it/s]\n"
     ]
    }
   ],
   "source": [
    "from roboflow import Roboflow\n",
    "rf = Roboflow(api_key=\"LgL7cOvEfeKGcn7Gwojn\")\n",
    "project = rf.workspace(\"tax-document\").project(\"rows-and-columns\")\n",
    "dataset = project.version(1).download(\"coco\")\n"
   ]
  },
  {
   "cell_type": "code",
   "execution_count": 21,
   "metadata": {},
   "outputs": [],
   "source": [
    "import json\n",
    "json_file = \"Rows-and-Columns-1/train/_annotations.coco.json\"\n",
    "\n",
    "# Load the JSON file\n",
    "with open(json_file, 'r') as f:\n",
    "    data = json.load(f)"
   ]
  },
  {
   "cell_type": "code",
   "execution_count": 7,
   "metadata": {},
   "outputs": [
    {
     "name": "stdout",
     "output_type": "stream",
     "text": [
      "dict_keys(['info', 'licenses', 'categories', 'images', 'annotations'])\n"
     ]
    }
   ],
   "source": [
    "print(data.keys())"
   ]
  },
  {
   "cell_type": "code",
   "execution_count": 8,
   "metadata": {},
   "outputs": [
    {
     "name": "stdout",
     "output_type": "stream",
     "text": [
      "[{'id': 1, 'name': 'column'}, {'id': 2, 'name': 'row'}]\n"
     ]
    }
   ],
   "source": [
    "print(data['categories'])"
   ]
  },
  {
   "cell_type": "code",
   "execution_count": 9,
   "metadata": {},
   "outputs": [
    {
     "name": "stdout",
     "output_type": "stream",
     "text": [
      "{'id': 0, 'license': 1, 'file_name': 'islami_bank_jpg-jpg_jpg.rf.4527a698db9a5fee753aaae1e831c852.jpg', 'height': 511, 'width': 1066, 'date_captured': '2024-02-27T12:44:17+00:00'}\n"
     ]
    }
   ],
   "source": [
    "print(data['images'][0])"
   ]
  },
  {
   "cell_type": "code",
   "execution_count": 22,
   "metadata": {},
   "outputs": [
    {
     "name": "stdout",
     "output_type": "stream",
     "text": [
      "{'id': 1, 'image_id': 0, 'category_id': 2, 'bbox': [0, 15, 566, 29.97], 'area': 16963.02, 'segmentation': [], 'iscrowd': 0}\n"
     ]
    }
   ],
   "source": [
    "print(data['annotations'][1])"
   ]
  },
  {
   "cell_type": "code",
   "execution_count": 23,
   "metadata": {},
   "outputs": [],
   "source": [
    "for annotation in data['annotations']:\n",
    "    # Extract the bounding box coordinates\n",
    "    x, y, width, height = annotation['bbox']\n",
    "    \n",
    "    # Create a polygon from the bounding box by listing the coordinates of each corner\n",
    "    # The order is (x, y), (x + width, y), (x + width, y + height), (x, y + height)\n",
    "    segmentation = [\n",
    "        x, y,  # Top-left corner\n",
    "        x + width, y,  # Top-right corner\n",
    "        x + width, y + height,  # Bottom-right corner\n",
    "        x, y + height  # Bottom-left corner\n",
    "    ]\n",
    "    \n",
    "    # Update the 'segmentation' field with the polygon\n",
    "    annotation['segmentation'] = [segmentation]\n",
    "    "
   ]
  },
  {
   "cell_type": "code",
   "execution_count": 24,
   "metadata": {},
   "outputs": [
    {
     "name": "stdout",
     "output_type": "stream",
     "text": [
      "{'id': 1, 'image_id': 0, 'category_id': 2, 'bbox': [0, 15, 566, 29.97], 'area': 16963.02, 'segmentation': [[0, 15, 566, 15, 566, 44.97, 0, 44.97]], 'iscrowd': 0}\n"
     ]
    }
   ],
   "source": [
    "print(data['annotations'][1])"
   ]
  },
  {
   "cell_type": "code",
   "execution_count": 13,
   "metadata": {},
   "outputs": [],
   "source": [
    "# save the modified json file\n",
    "with open(json_file, 'w') as f:\n",
    "    json.dump(data, f)"
   ]
  },
  {
   "cell_type": "code",
   "execution_count": 11,
   "metadata": {},
   "outputs": [
    {
     "name": "stdout",
     "output_type": "stream",
     "text": [
      "Usage: wandb [OPTIONS] COMMAND [ARGS]...\n",
      "Try 'wandb --help' for help.\n",
      "\n",
      "Error: No such option: --relogin\n"
     ]
    }
   ],
   "source": [
    "import wandb\n",
    "\n",
    "!wandb --relogin"
   ]
  },
  {
   "cell_type": "code",
   "execution_count": 1,
   "metadata": {},
   "outputs": [
    {
     "name": "stdout",
     "output_type": "stream",
     "text": [
      "\u001b[34m\u001b[1mwandb\u001b[0m: Currently logged in as: \u001b[33m1805109\u001b[0m (\u001b[33mthesis_bank_document\u001b[0m). Use \u001b[1m`wandb login --relogin`\u001b[0m to force relogin\n",
      "loading annotations into memory...\n",
      "Done (t=0.01s)\n",
      "creating index...\n",
      "index created!\n",
      "loading annotations into memory...\n",
      "Done (t=0.01s)\n",
      "creating index...\n",
      "index created!\n",
      "2024-02-27 19:11:41,578 - mmdet - INFO - Automatic scaling of learning rate (LR) has been disabled.\n",
      "loading annotations into memory...\n",
      "Done (t=0.00s)\n",
      "creating index...\n",
      "index created!\n",
      "2024-02-27 19:11:41,589 - mmdet - INFO - load checkpoint from local path: /media/quadro/NVME/Mehrab/exps/32_quad_long_retry/epoch_139.pth\n",
      "2024-02-27 19:11:41,662 - root - INFO - ModulatedDeformConvPack neck.deconv_layers.0.conv is upgraded to version 2.\n",
      "2024-02-27 19:11:41,664 - root - INFO - ModulatedDeformConvPack neck.deconv_layers.2.conv is upgraded to version 2.\n",
      "2024-02-27 19:11:41,666 - root - INFO - ModulatedDeformConvPack neck.deconv_layers.4.conv is upgraded to version 2.\n",
      "2024-02-27 19:11:41,672 - mmdet - INFO - Start running, host: quadro@quadro-Pro-E800-G4-WS950T, work_dir: /media/quadro/NVME/Mehrab/exps/32_quad_long_row_column_finetune\n",
      "2024-02-27 19:11:41,672 - mmdet - INFO - Hooks will be executed in the following order:\n",
      "before_run:\n",
      "(VERY_HIGH   ) StepLrUpdaterHook                  \n",
      "(NORMAL      ) CheckpointHook                     \n",
      "(LOW         ) EvalHook                           \n",
      "(VERY_LOW    ) TextLoggerHook                     \n",
      "(VERY_LOW    ) TensorboardLoggerHook              \n",
      "(VERY_LOW    ) MMDetWandbHook                     \n",
      " -------------------- \n",
      "before_train_epoch:\n",
      "(VERY_HIGH   ) StepLrUpdaterHook                  \n",
      "(NORMAL      ) NumClassCheckHook                  \n",
      "(LOW         ) IterTimerHook                      \n",
      "(LOW         ) EvalHook                           \n",
      "(VERY_LOW    ) TextLoggerHook                     \n",
      "(VERY_LOW    ) TensorboardLoggerHook              \n",
      "(VERY_LOW    ) MMDetWandbHook                     \n",
      " -------------------- \n",
      "before_train_iter:\n",
      "(VERY_HIGH   ) StepLrUpdaterHook                  \n",
      "(LOW         ) IterTimerHook                      \n",
      "(LOW         ) EvalHook                           \n",
      " -------------------- \n",
      "after_train_iter:\n",
      "(ABOVE_NORMAL) OptimizerHook                      \n",
      "(NORMAL      ) CheckpointHook                     \n",
      "(LOW         ) IterTimerHook                      \n",
      "(LOW         ) EvalHook                           \n",
      "(VERY_LOW    ) TextLoggerHook                     \n",
      "(VERY_LOW    ) TensorboardLoggerHook              \n",
      "(VERY_LOW    ) MMDetWandbHook                     \n",
      " -------------------- \n",
      "after_train_epoch:\n",
      "(NORMAL      ) CheckpointHook                     \n",
      "(LOW         ) EvalHook                           \n",
      "(VERY_LOW    ) TextLoggerHook                     \n",
      "(VERY_LOW    ) TensorboardLoggerHook              \n",
      "(VERY_LOW    ) MMDetWandbHook                     \n",
      " -------------------- \n",
      "before_val_epoch:\n",
      "(NORMAL      ) NumClassCheckHook                  \n",
      "(LOW         ) IterTimerHook                      \n",
      "(VERY_LOW    ) TextLoggerHook                     \n",
      "(VERY_LOW    ) TensorboardLoggerHook              \n",
      "(VERY_LOW    ) MMDetWandbHook                     \n",
      " -------------------- \n",
      "before_val_iter:\n",
      "(LOW         ) IterTimerHook                      \n",
      " -------------------- \n",
      "after_val_iter:\n",
      "(LOW         ) IterTimerHook                      \n",
      " -------------------- \n",
      "after_val_epoch:\n",
      "(VERY_LOW    ) TextLoggerHook                     \n",
      "(VERY_LOW    ) TensorboardLoggerHook              \n",
      "(VERY_LOW    ) MMDetWandbHook                     \n",
      " -------------------- \n",
      "after_run:\n",
      "(VERY_LOW    ) TextLoggerHook                     \n",
      "(VERY_LOW    ) TensorboardLoggerHook              \n",
      "(VERY_LOW    ) MMDetWandbHook                     \n",
      " -------------------- \n",
      "2024-02-27 19:11:41,673 - mmdet - INFO - workflow: [('train', 1), ('val', 1)], max: 150 epochs\n",
      "2024-02-27 19:11:41,673 - mmdet - INFO - Checkpoints will be saved to /media/quadro/NVME/Mehrab/exps/32_quad_long_row_column_finetune by HardDiskBackend.\n",
      "########\n",
      "{'project': 'CenterNet', 'entity': 'thesis_bank_document', 'name': '32_quad_long_row_column_finetune', 'dir': '/media/quadro/NVME/Mehrab/exps/wandb', 'tags': ['local_maximum_kernel=1', '1hm', '150_epoch', '0.00125_lr', '150_eval_lag', '1_chkpt_lag', 'DLANetMMDet3D_backbone', '8_batch']}\n",
      "########\n",
      "\u001b[34m\u001b[1mwandb\u001b[0m: wandb version 0.16.3 is available!  To upgrade, please run:\n",
      "\u001b[34m\u001b[1mwandb\u001b[0m:  $ pip install wandb --upgrade\n",
      "\u001b[34m\u001b[1mwandb\u001b[0m: Tracking run with wandb version 0.16.1\n",
      "\u001b[34m\u001b[1mwandb\u001b[0m: Run data is saved locally in \u001b[35m\u001b[1m/media/quadro/NVME/Mehrab/exps/wandb/wandb/run-20240227_191141-l77vzrpp\u001b[0m\n",
      "\u001b[34m\u001b[1mwandb\u001b[0m: Run \u001b[1m`wandb offline`\u001b[0m to turn off syncing.\n",
      "\u001b[34m\u001b[1mwandb\u001b[0m: Syncing run \u001b[33m32_quad_long_row_column_finetune\u001b[0m\n",
      "\u001b[34m\u001b[1mwandb\u001b[0m: ⭐️ View project at \u001b[34m\u001b[4mhttps://wandb.ai/thesis_bank_document/CenterNet\u001b[0m\n",
      "\u001b[34m\u001b[1mwandb\u001b[0m: 🚀 View run at \u001b[34m\u001b[4mhttps://wandb.ai/thesis_bank_document/CenterNet/runs/l77vzrpp\u001b[0m\n",
      "2024-02-27 19:11:44,893 - mmdet - WARNING - No meta information found in the runner. \n",
      "Traceback (most recent call last):\n",
      "  File \"train.py\", line 46, in <module>\n",
      "    train_detector(model, datasets, cfg, distributed=False, validate=val)\n",
      "  File \"/media/quadro/NVME/Mehrab/Current_Experiment/mmdet/apis/train.py\", line 244, in train_detector\n",
      "    runner.run(data_loaders, cfg.workflow)\n",
      "  File \"/media/quadro/NVME/afnan/conda/openmmlab/lib/python3.8/site-packages/mmcv/runner/epoch_based_runner.py\", line 117, in run\n",
      "    self.call_hook('before_run')\n",
      "  File \"/media/quadro/NVME/afnan/conda/openmmlab/lib/python3.8/site-packages/mmcv/runner/base_runner.py\", line 317, in call_hook\n",
      "    getattr(hook, fn_name)(self)\n",
      "  File \"/media/quadro/NVME/afnan/conda/openmmlab/lib/python3.8/site-packages/mmcv/runner/dist_utils.py\", line 135, in wrapper\n",
      "    return func(*args, **kwargs)\n",
      "  File \"/media/quadro/NVME/Mehrab/Current_Experiment/mmdet/core/hook/wandblogger_hook.py\", line 201, in before_run\n",
      "    self._add_ground_truth(runner)\n",
      "  File \"/media/quadro/NVME/Mehrab/Current_Experiment/mmdet/core/hook/wandblogger_hook.py\", line 380, in _add_ground_truth\n",
      "    wandb_masks = self._get_wandb_masks(\n",
      "  File \"/media/quadro/NVME/Mehrab/Current_Experiment/mmdet/core/hook/wandblogger_hook.py\", line 536, in _get_wandb_masks\n",
      "    mask = polygon_to_bitmap(mask, height, width)\n",
      "  File \"/media/quadro/NVME/Mehrab/Current_Experiment/mmdet/core/mask/structures.py\", line 1069, in polygon_to_bitmap\n",
      "    rles = maskUtils.frPyObjects(polygons, height, width)\n",
      "  File \"pycocotools/_mask.pyx\", line 294, in pycocotools._mask.frPyObjects\n",
      "IndexError: list index out of range\n",
      "\u001b[34m\u001b[1mwandb\u001b[0m: 🚀 View run \u001b[33m32_quad_long_row_column_finetune\u001b[0m at: \u001b[34m\u001b[4mhttps://wandb.ai/thesis_bank_document/CenterNet/runs/l77vzrpp\u001b[0m\n",
      "\u001b[34m\u001b[1mwandb\u001b[0m: ️⚡ View job at \u001b[34m\u001b[4mhttps://wandb.ai/thesis_bank_document/CenterNet/jobs/QXJ0aWZhY3RDb2xsZWN0aW9uOjEzMjM2NDA4Nw==/version_details/v2\u001b[0m\n",
      "\u001b[34m\u001b[1mwandb\u001b[0m: Synced 6 W&B file(s), 0 media file(s), 0 artifact file(s) and 0 other file(s)\n",
      "\u001b[34m\u001b[1mwandb\u001b[0m: Find logs at: \u001b[35m\u001b[1m/media/quadro/NVME/Mehrab/exps/wandb/wandb/run-20240227_191141-l77vzrpp/logs\u001b[0m\n"
     ]
    }
   ],
   "source": [
    "!python train.py 2"
   ]
  },
  {
   "cell_type": "code",
   "execution_count": null,
   "metadata": {},
   "outputs": [],
   "source": []
  }
 ],
 "metadata": {
  "kernelspec": {
   "display_name": "openmmlab",
   "language": "python",
   "name": "python3"
  },
  "language_info": {
   "codemirror_mode": {
    "name": "ipython",
    "version": 3
   },
   "file_extension": ".py",
   "mimetype": "text/x-python",
   "name": "python",
   "nbconvert_exporter": "python",
   "pygments_lexer": "ipython3",
   "version": "3.8.18"
  }
 },
 "nbformat": 4,
 "nbformat_minor": 2
}
