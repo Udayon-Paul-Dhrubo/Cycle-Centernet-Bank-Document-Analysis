{
 "cells": [
  {
   "cell_type": "code",
   "execution_count": 1,
   "metadata": {},
   "outputs": [
    {
     "name": "stderr",
     "output_type": "stream",
     "text": [
      "/home/quadro/.local/lib/python3.8/site-packages/tqdm/auto.py:21: TqdmWarning: IProgress not found. Please update jupyter and ipywidgets. See https://ipywidgets.readthedocs.io/en/stable/user_install.html\n",
      "  from .autonotebook import tqdm as notebook_tqdm\n"
     ]
    }
   ],
   "source": [
    "import os\n",
    "import os.path as osp\n",
    "from sys import argv\n",
    "\n",
    "import mmcv\n",
    "import wandb\n",
    "from mmcv import Config\n",
    "from mmdet.apis import set_random_seed, train_detector\n",
    "\n",
    "# Let's take a look at the dataset image\n",
    "from mmdet.datasets import build_dataset\n",
    "from mmdet.models import build_detector\n",
    "import subprocess\n",
    "import random\n",
    "\n",
    "\n",
    "\n",
    "\n",
    "\n",
    "\n",
    "\n",
    "\n",
    "\n"
   ]
  },
  {
   "cell_type": "code",
   "execution_count": 7,
   "metadata": {},
   "outputs": [
    {
     "name": "stderr",
     "output_type": "stream",
     "text": [
      "\u001b[34m\u001b[1mwandb\u001b[0m: \u001b[33mWARNING\u001b[0m Calling wandb.login() after wandb.init() has no effect.\n"
     ]
    }
   ],
   "source": [
    "\n",
    "wandb.login()\n",
    "cfg = Config.fromfile(f\"/media/quadro/NVME/Mehrab/Current_Experiment/finetune_config.py\")\n",
    "\n",
    "\n",
    "set_random_seed(0, deterministic=False)\n",
    "\n",
    "\n",
    "\n"
   ]
  },
  {
   "cell_type": "code",
   "execution_count": 9,
   "metadata": {},
   "outputs": [
    {
     "name": "stdout",
     "output_type": "stream",
     "text": [
      "loading annotations into memory...\n",
      "Done (t=0.01s)\n",
      "creating index...\n",
      "index created!\n"
     ]
    },
    {
     "ename": "AttributeError",
     "evalue": "'ConfigDict' object has no attribute 'val'",
     "output_type": "error",
     "traceback": [
      "\u001b[0;31m---------------------------------------------------------------------------\u001b[0m",
      "\u001b[0;31mAttributeError\u001b[0m                            Traceback (most recent call last)",
      "Cell \u001b[0;32mIn[9], line 12\u001b[0m\n\u001b[1;32m     10\u001b[0m \u001b[38;5;66;03m# Create work_dir\u001b[39;00m\n\u001b[1;32m     11\u001b[0m mmcv\u001b[38;5;241m.\u001b[39mmkdir_or_exist(osp\u001b[38;5;241m.\u001b[39mabspath(cfg\u001b[38;5;241m.\u001b[39mwork_dir))\n\u001b[0;32m---> 12\u001b[0m \u001b[43mtrain_detector\u001b[49m\u001b[43m(\u001b[49m\u001b[43mmodel\u001b[49m\u001b[43m,\u001b[49m\u001b[43m \u001b[49m\u001b[43mdatasets\u001b[49m\u001b[43m,\u001b[49m\u001b[43m \u001b[49m\u001b[43mcfg\u001b[49m\u001b[43m,\u001b[49m\u001b[43m \u001b[49m\u001b[43mdistributed\u001b[49m\u001b[38;5;241;43m=\u001b[39;49m\u001b[38;5;28;43;01mFalse\u001b[39;49;00m\u001b[43m,\u001b[49m\u001b[43m \u001b[49m\u001b[43mvalidate\u001b[49m\u001b[38;5;241;43m=\u001b[39;49m\u001b[43mval\u001b[49m\u001b[43m)\u001b[49m\n",
      "File \u001b[0;32m/media/quadro/NVME/Mehrab/Current_Experiment/mmdet/apis/train.py:125\u001b[0m, in \u001b[0;36mtrain_detector\u001b[0;34m(model, dataset, cfg, distributed, validate, timestamp, meta)\u001b[0m\n\u001b[1;32m    117\u001b[0m \u001b[38;5;28;01mdef\u001b[39;00m \u001b[38;5;21mtrain_detector\u001b[39m(model,\n\u001b[1;32m    118\u001b[0m                    dataset,\n\u001b[1;32m    119\u001b[0m                    cfg,\n\u001b[0;32m   (...)\u001b[0m\n\u001b[1;32m    122\u001b[0m                    timestamp\u001b[38;5;241m=\u001b[39m\u001b[38;5;28;01mNone\u001b[39;00m,\n\u001b[1;32m    123\u001b[0m                    meta\u001b[38;5;241m=\u001b[39m\u001b[38;5;28;01mNone\u001b[39;00m):\n\u001b[0;32m--> 125\u001b[0m     cfg \u001b[38;5;241m=\u001b[39m \u001b[43mcompat_cfg\u001b[49m\u001b[43m(\u001b[49m\u001b[43mcfg\u001b[49m\u001b[43m)\u001b[49m\n\u001b[1;32m    126\u001b[0m     logger \u001b[38;5;241m=\u001b[39m get_root_logger(log_level\u001b[38;5;241m=\u001b[39mcfg\u001b[38;5;241m.\u001b[39mlog_level)\n\u001b[1;32m    128\u001b[0m     \u001b[38;5;66;03m# prepare data loaders\u001b[39;00m\n",
      "File \u001b[0;32m/media/quadro/NVME/Mehrab/Current_Experiment/mmdet/utils/compat_config.py:17\u001b[0m, in \u001b[0;36mcompat_cfg\u001b[0;34m(cfg)\u001b[0m\n\u001b[1;32m     15\u001b[0m cfg \u001b[38;5;241m=\u001b[39m copy\u001b[38;5;241m.\u001b[39mdeepcopy(cfg)\n\u001b[1;32m     16\u001b[0m cfg \u001b[38;5;241m=\u001b[39m compat_imgs_per_gpu(cfg)\n\u001b[0;32m---> 17\u001b[0m cfg \u001b[38;5;241m=\u001b[39m \u001b[43mcompat_loader_args\u001b[49m\u001b[43m(\u001b[49m\u001b[43mcfg\u001b[49m\u001b[43m)\u001b[49m\n\u001b[1;32m     18\u001b[0m cfg \u001b[38;5;241m=\u001b[39m compat_runner_args(cfg)\n\u001b[1;32m     19\u001b[0m \u001b[38;5;28;01mreturn\u001b[39;00m cfg\n",
      "File \u001b[0;32m/media/quadro/NVME/Mehrab/Current_Experiment/mmdet/utils/compat_config.py:98\u001b[0m, in \u001b[0;36mcompat_loader_args\u001b[0;34m(cfg)\u001b[0m\n\u001b[1;32m     95\u001b[0m     cfg\u001b[38;5;241m.\u001b[39mdata\u001b[38;5;241m.\u001b[39mtest_dataloader[\u001b[38;5;124m'\u001b[39m\u001b[38;5;124mworkers_per_gpu\u001b[39m\u001b[38;5;124m'\u001b[39m] \u001b[38;5;241m=\u001b[39m workers_per_gpu\n\u001b[1;32m     97\u001b[0m \u001b[38;5;66;03m# special process for val_dataloader\u001b[39;00m\n\u001b[0;32m---> 98\u001b[0m \u001b[38;5;28;01mif\u001b[39;00m \u001b[38;5;124m'\u001b[39m\u001b[38;5;124msamples_per_gpu\u001b[39m\u001b[38;5;124m'\u001b[39m \u001b[38;5;129;01min\u001b[39;00m \u001b[43mcfg\u001b[49m\u001b[38;5;241;43m.\u001b[39;49m\u001b[43mdata\u001b[49m\u001b[38;5;241;43m.\u001b[39;49m\u001b[43mval\u001b[49m:\n\u001b[1;32m     99\u001b[0m     \u001b[38;5;66;03m# keep default value of `sample_per_gpu` is 1\u001b[39;00m\n\u001b[1;32m    100\u001b[0m     \u001b[38;5;28;01massert\u001b[39;00m \u001b[38;5;124m'\u001b[39m\u001b[38;5;124msamples_per_gpu\u001b[39m\u001b[38;5;124m'\u001b[39m \u001b[38;5;129;01mnot\u001b[39;00m \u001b[38;5;129;01min\u001b[39;00m \\\n\u001b[1;32m    101\u001b[0m            cfg\u001b[38;5;241m.\u001b[39mdata\u001b[38;5;241m.\u001b[39mval_dataloader, (\u001b[38;5;124m'\u001b[39m\u001b[38;5;124m`samples_per_gpu` are set \u001b[39m\u001b[38;5;124m'\u001b[39m\n\u001b[1;32m    102\u001b[0m                                      \u001b[38;5;124m'\u001b[39m\u001b[38;5;124min `data.val` field and ` \u001b[39m\u001b[38;5;124m'\u001b[39m\n\u001b[0;32m   (...)\u001b[0m\n\u001b[1;32m    105\u001b[0m                                      \u001b[38;5;124m'\u001b[39m\u001b[38;5;124mPlease only set it in \u001b[39m\u001b[38;5;124m'\u001b[39m\n\u001b[1;32m    106\u001b[0m                                      \u001b[38;5;124m'\u001b[39m\u001b[38;5;124m`data.val_dataloader`. \u001b[39m\u001b[38;5;124m'\u001b[39m)\n\u001b[1;32m    107\u001b[0m     cfg\u001b[38;5;241m.\u001b[39mdata\u001b[38;5;241m.\u001b[39mval_dataloader[\u001b[38;5;124m'\u001b[39m\u001b[38;5;124msamples_per_gpu\u001b[39m\u001b[38;5;124m'\u001b[39m] \u001b[38;5;241m=\u001b[39m \\\n\u001b[1;32m    108\u001b[0m         cfg\u001b[38;5;241m.\u001b[39mdata\u001b[38;5;241m.\u001b[39mval\u001b[38;5;241m.\u001b[39mpop(\u001b[38;5;124m'\u001b[39m\u001b[38;5;124msamples_per_gpu\u001b[39m\u001b[38;5;124m'\u001b[39m)\n",
      "File \u001b[0;32m/media/quadro/NVME/afnan/conda/openmmlab/lib/python3.8/site-packages/mmcv/utils/config.py:50\u001b[0m, in \u001b[0;36mConfigDict.__getattr__\u001b[0;34m(self, name)\u001b[0m\n\u001b[1;32m     48\u001b[0m \u001b[38;5;28;01melse\u001b[39;00m:\n\u001b[1;32m     49\u001b[0m     \u001b[38;5;28;01mreturn\u001b[39;00m value\n\u001b[0;32m---> 50\u001b[0m \u001b[38;5;28;01mraise\u001b[39;00m ex\n",
      "\u001b[0;31mAttributeError\u001b[0m: 'ConfigDict' object has no attribute 'val'"
     ]
    }
   ],
   "source": [
    "\n",
    "datasets = [build_dataset(cfg.data.train)]\n",
    "cfg.workflow = [(\"train\", 1)]\n",
    "val = False\n",
    "\n",
    "# Build the detector\n",
    "model = build_detector(cfg.model)\n",
    "# Add an attribute for visualization convenience\n",
    "model.CLASSES = datasets[0].CLASSES\n",
    "\n",
    "# Create work_dir\n",
    "mmcv.mkdir_or_exist(osp.abspath(cfg.work_dir))\n",
    "train_detector(model, datasets, cfg, distributed=False, validate=val)"
   ]
  }
 ],
 "metadata": {
  "kernelspec": {
   "display_name": "openmmlab",
   "language": "python",
   "name": "python3"
  },
  "language_info": {
   "codemirror_mode": {
    "name": "ipython",
    "version": 3
   },
   "file_extension": ".py",
   "mimetype": "text/x-python",
   "name": "python",
   "nbconvert_exporter": "python",
   "pygments_lexer": "ipython3",
   "version": "3.8.18"
  }
 },
 "nbformat": 4,
 "nbformat_minor": 2
}
